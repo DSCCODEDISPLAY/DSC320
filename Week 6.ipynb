{
  "metadata": {
    "kernelspec": {
      "name": "python",
      "display_name": "Python (Pyodide)",
      "language": "python"
    },
    "language_info": {
      "codemirror_mode": {
        "name": "python",
        "version": 3
      },
      "file_extension": ".py",
      "mimetype": "text/x-python",
      "name": "python",
      "nbconvert_exporter": "python",
      "pygments_lexer": "ipython3",
      "version": "3.8"
    }
  },
  "nbformat_minor": 4,
  "nbformat": 4,
  "cells": [
    {
      "cell_type": "code",
      "source": "import numpy as np\nimport pandas as pd\n\n#Step 1: Build a Python function that takes in a vector (array) and normalizes it.\ndef normalize(data):\n    min_val = np.min(data)\n    max_val = np.max(data)\n    normalized_data = (data - min_val) / (max_val - min_val)\n    return normalized_data\n\n#Step 2: Build a Python function that takes in a vector (array) and standardizes it.\ndef standardize(data):\n    mean_val = np.mean(data)\n    std_dev = np.std(data)\n    standardized_data = (data - mean_val) / std_dev\n    return standardized_data\n\ndata = pd.read_csv('calif_housing_data.csv')\n\n#Step 3(a): How many rows does this dataset have?\nnum_rows = data.shape[0]\nprint(f'Step 3(a): This dataset has {num_rows:,} rows.')\n\n#Step 3(b): What is the target vector for your model?\ntarget_vector = data['median_house_value']\nprint(f'\\nStep 3(b): Target Vector\\n{target_vector.head()}')\n\n#Step 3(c): Create a new feature by taking the total bedrooms divided by the number of households. What does this new feature represent?\ndata['bedrooms_per_household'] = data['total_bedrooms'] / data['households']\nprint(f'\\nStep 3(c): The new feature represents bedrooms per household:\\n{data[\"bedrooms_per_household\"].head()}')\n\n#Step 3(d): Now, create a new data frame that has three features: the median age, median income, and the new feature created in part (c).\ndata_frame = data[['housing_median_age', 'median_income', 'bedrooms_per_household']]\nprint(f'\\nStep 3(d): New Dataframe \\n{data_frame.head()}')\n\n#Step 3(e): Take the data frame created in part (d) and apply data standardization to the features.\ndata_frame_standardized = data_frame.apply(standardize)\nprint(f'\\nStep 3(e): Standardized Dataframe \\n{data_frame_standardized.head()}')",
      "metadata": {
        "trusted": true
      },
      "outputs": [
        {
          "name": "stdout",
          "text": "Step 3(a): This dataset has 20,640 rows.\n\nStep 3(b): Target Vector\n0    452600.0\n1    358500.0\n2    352100.0\n3    341300.0\n4    342200.0\nName: median_house_value, dtype: float64\n\nStep 3(c): The new feature represents bedrooms per household:\n0    1.023810\n1    0.971880\n2    1.073446\n3    1.073059\n4    1.081081\nName: bedrooms_per_household, dtype: float64\n\nStep 3(d): New Dataframe \n   housing_median_age  median_income  bedrooms_per_household\n0                  41         8.3252                1.023810\n1                  21         8.3014                0.971880\n2                  52         7.2574                1.073446\n3                  52         5.6431                1.073059\n4                  52         3.8462                1.081081\n\nStep 3(e): Standardized Dataframe \n   housing_median_age  median_income  bedrooms_per_household\n0            0.982143       2.344766               -0.153863\n1           -0.607019       2.332238               -0.262936\n2            1.856182       1.782699               -0.049604\n3            1.856182       0.932968               -0.050417\n4            1.856182      -0.012881               -0.033568\n",
          "output_type": "stream"
        }
      ],
      "execution_count": 2
    }
  ]
}