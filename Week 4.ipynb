{
  "metadata": {
    "kernelspec": {
      "name": "python",
      "display_name": "Python (Pyodide)",
      "language": "python"
    },
    "language_info": {
      "codemirror_mode": {
        "name": "python",
        "version": 3
      },
      "file_extension": ".py",
      "mimetype": "text/x-python",
      "name": "python",
      "nbconvert_exporter": "python",
      "pygments_lexer": "ipython3",
      "version": "3.8"
    }
  },
  "nbformat_minor": 4,
  "nbformat": 4,
  "cells": [
    {
      "cell_type": "code",
      "source": "#Step 1: Calculating Limits Numerically\nimport numpy as np\n\ndef f(x):\n    return 2 * x**3 - 4 * x + 1\n\ndef g(x):\n    return (np.exp(x) - 1) / x\n\n#Step 1(a): Calculate lim (x → 3) f(x)\nprint(\"Step 1(a): Evaluating f(x) as x approaches 3\")\nx_values_f = np.linspace(2.9, 3.1, 20)\nf_values = [f(x) for x in x_values_f]\n\nfor x, fx in zip(x_values_f, f_values):\n    print(f\"f({x}) = {fx}\")\n\nprint(\"\\n\")\n\n#Step 1(b): Calculate lim (x → 0) g(x)\nprint(\"Step 1(b): Evaluating g(x) as x approaches 0\")\nx_values_g = np.linspace(-0.1, 0.1, 20)\ng_values = [g(x) for x in x_values_g if x != 0]\n\nfor x, gx in zip(x_values_g, g_values):\n    print(f\"g({x}) = {gx}\")\n\n#Step 1(c):\nprint()\nprint(\"Step 1(c): For f(x), we can find the limit as 𝑥 → 3 by direct substitution because the function is continuous\")\nprint(\"at that point. However, for g(x), substituting 𝑥 = 0 results in division by zero, so the limit must be evaluated\")\nprint(\"using other methods since the function is not continuous at 𝑥 = 0.\")",
      "metadata": {
        "trusted": true
      },
      "outputs": [
        {
          "name": "stdout",
          "text": "Step 1(a): Evaluating f(x) as x approaches 3\nf(2.9) = 38.178\nf(2.9105263157894736) = 38.66898294211984\nf(2.9210526315789473) = 39.16383583612772\nf(2.931578947368421) = 39.662572678232976\nf(2.942105263157895) = 40.16520746464499\nf(2.9526315789473685) = 40.67175419157312\nf(2.963157894736842) = 41.182226855226716\nf(2.973684210526316) = 41.696639451815145\nf(2.9842105263157896) = 42.215005977547754\nf(2.9947368421052634) = 42.73734042863392\nf(3.0052631578947366) = 43.26365680128298\nf(3.0157894736842104) = 43.79396909170433\nf(3.026315789473684) = 44.328291296107295\nf(3.036842105263158) = 44.86663741070126\nf(3.0473684210526315) = 45.40902143169558\nf(3.057894736842105) = 45.95545735529961\nf(3.068421052631579) = 46.5059591777227\nf(3.0789473684210527) = 47.06054089517422\nf(3.0894736842105264) = 47.61921650386354\nf(3.1) = 48.18200000000001\n\n\nStep 1(b): Evaluating g(x) as x approaches 0\ng(-0.1) = 0.9516258196404048\ng(-0.08947368421052632) = 0.9565680955822863\ng(-0.07894736842105264) = 0.9615449142010929\ng(-0.06842105263157895) = 0.9665565481161962\ng(-0.05789473684210527) = 0.971603272246269\ng(-0.04736842105263159) = 0.9766853638295132\ng(-0.0368421052631579) = 0.9818031024440557\ng(-0.026315789473684223) = 0.9869567700285509\ng(-0.015789473684210534) = 0.9921466509029448\ng(-0.005263157894736845) = 0.9973730317894565\ng(0.005263157894736831) = 1.0026362018336865\ng(0.01578947368421052) = 1.0079364526260397\ng(0.02631578947368421) = 1.0132740782232044\ng(0.0368421052631579) = 1.0186493751699082\ng(0.04736842105263156) = 1.0240626425208383\ng(0.05789473684210525) = 1.0295141818627946\ng(0.06842105263157894) = 1.0350042973370006\ng(0.07894736842105263) = 1.040533295661648\ng(0.08947368421052632) = 1.0461014861546243\ng(0.1) = 1.0517091807564771\n\nStep 1(c): For f(x), we can find the limit as 𝑥 → 3 by direct substitution because the function is continuous\nat that point. However, for g(x), substituting 𝑥 = 0 results in division by zero, so the limit must be evaluated\nusing other methods since the function is not continuous at 𝑥 = 0.\n",
          "output_type": "stream"
        }
      ],
      "execution_count": 1
    },
    {
      "cell_type": "code",
      "source": "#Step 2: Create a Python function that takes in a mathematical function that returns the average rate of change of the function between a and b.\n##I am unable to get input functions to work in Jupyter. This is the code I would write for user inputs.\n\n###def average_rate_of_change(f, a, b):\n    ###return (f(b) - f(a)) / (b - a)\n\n###user_input = input(\"Input f(x): \")\n\n###def f(x):\n    ###return eval(user_input)\n\n###a = float(input(\"Input the value of a: \"))\n###b = float(input(\"Input the value of b: \"))\n\n###rate_of_change = average_rate_of_change(f, a, b)\n\n###print(f\"The ARoC of f(x) between {a} and {b} is {rate_of_change:}\")",
      "metadata": {
        "trusted": true
      },
      "outputs": [],
      "execution_count": 2
    },
    {
      "cell_type": "code",
      "source": "#Step 3: Average Rate of Change to Instantaneous Rate of Change\ndef f(t):\n    return 4.9 * t**2\n\ndef f_prime(t):\n    a = 4.9\n    derivative = 2 * a * t\n    return derivative\n\ndef average_rate_of_change(f, a, b):\n    return (f(b) - f(a)) / (b - a)\n\n#Step 3(a): Find the average speed (average rate of change of distance) of the baseball between 5 and 6 seconds.\na1 = 5\nb1 = 6\naroc_1 = average_rate_of_change(f, a1, b1)\nprint(f\"Step 3(a): The average speed between {a1} and {b1} seconds is{aroc_1: .2f} m/s.\")\n\n#Step 3(b): Find the average speed (average rate of change of distance) of the baseball between 5 and 5.5 seconds.\na2 = 5\nb2 = 5.5\naroc_2 = average_rate_of_change(f, a2, b2)\nprint(f\"Step 3(b): The average speed between {a2} and {b2} seconds is{aroc_2: .2f} m/s.\")\n\n#Step 3(c): Find the average speed (average rate of change of distance) of the baseball between 5 and 5.1 seconds.\na3 = 5\nb3 = 5.1\naroc_3 = average_rate_of_change(f, a3, b3)\nprint(f\"Step 3(c): The average speed between {a3} and {b3} seconds is{aroc_3: .2f} m/s.\")\n\n#Step 3(d): What is the instantaneous speed of the baseball at t = 5 seconds?\nt = 5\ninstantaneous_speed = f_prime(t)\nprint(f\"Step 3(d): The instantaneous speed at t = {t} seconds is{instantaneous_speed: .2f} m/s.\")\n\n#Step 3(e): Find the derivative of f\nderivative_at_5 = f_prime(t)\nprint(f\"Step 3(e): The derivative of the function at t = 5 seconds is{derivative_at_5: .2f} m/s.\")\n\n#Step 3(f): Evaluate the derivative of f at t = 5. How does this value compare to the value found in part (d)? Explain what is happening\nprint(\"Step 3(f): Both values are 49 m/s. The derivative provides the slope of the tangent to the curve. This represents\")\nprint(\"the exact speed at that moment. The values are identical because the are the same concept of instantaneous speed.\")\nprint(\"Both values are 49 m/s. The derivative provides the slope of the tangent to the curve. This represents the exact\")\nprint(\"speed at that moment. The values are identical because the are the same concept of instantaneous speed.\")",
      "metadata": {
        "trusted": true
      },
      "outputs": [
        {
          "name": "stdout",
          "text": "Step 3(a): The average speed between 5 and 6 seconds is 53.90 m/s.\nStep 3(b): The average speed between 5 and 5.5 seconds is 51.45 m/s.\nStep 3(c): The average speed between 5 and 5.1 seconds is 49.49 m/s.\nStep 3(d): The instantaneous speed at t = 5 seconds is 49.00 m/s.\nStep 3(e): The derivative of the function at t = 5 seconds is 49.00 m/s.\nStep 3(f): Both values are 49 m/s. The derivative provides the slope of the tangent to the curve. This represents\nthe exact speed at that moment. The values are identical because the are the same concept of instantaneous speed.\nBoth values are 49 m/s. The derivative provides the slope of the tangent to the curve. This represents the exact\nspeed at that moment. The values are identical because the are the same concept of instantaneous speed.\n",
          "output_type": "stream"
        }
      ],
      "execution_count": 3
    },
    {
      "cell_type": "code",
      "source": "#Step 4: Calculating and Interpreting Partial Derivatives\ndef selling_price(C, Y):\n    return 16000 + 2400 * C - 1800 * Y\n\n#Step 4(a): Calculate the selling price for a 5-year-old car with a condition rating of 8\nC = 8\nY = 5\npredicted_price = selling_price(C, Y)\nprint(f\"Step 4(a): The predicted selling price of a {C}-year-old car with condition rating {Y} is ${predicted_price:,.2f}.\")\n\n#Step 4(b):Partial derivative of P with respect to C: dP/dC\nprint(f\"Step 4(b): The partial derivative of P with respect to C is $2,400. This means the selling price increases by \")\nprint(\"$2,400 for every 1-unit improvement in the car's condition.\")\n\n#Step 4(c): Partial derivative of P with respect to Y: dP/dY\nprint(f\"Step 4(c): The partial derivative of P with respect to Y is -$1,800. This means the selling price decreases by \")\nprint(\"$1,800 for every additional year of the car's age.\")",
      "metadata": {
        "trusted": true
      },
      "outputs": [
        {
          "name": "stdout",
          "text": "Step 4(a): The predicted selling price of a 8-year-old car with condition rating 5 is $26,200.00.\nStep 4(b): The partial derivative of P with respect to C is $2,400. This means the selling price increases by \n$2,400 for every 1-unit improvement in the car's condition.\nStep 4(c): The partial derivative of P with respect to Y is -$1,800. This means the selling price decreases by \n$1,800 for every additional year of the car's age.\n",
          "output_type": "stream"
        }
      ],
      "execution_count": 4
    },
    {
      "cell_type": "code",
      "source": "",
      "metadata": {
        "trusted": true
      },
      "outputs": [],
      "execution_count": null
    }
  ]
}